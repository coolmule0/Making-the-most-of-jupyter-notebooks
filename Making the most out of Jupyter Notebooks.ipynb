{
 "cells": [
  {
   "cell_type": "markdown",
   "metadata": {
    "slideshow": {
     "slide_type": "slide"
    }
   },
   "source": [
    "# Making the most out of Jupyter Notebooks\n",
    "Extentions and magic\n",
    "\n",
    "2020-10-06\n",
    "\n",
    "John Charlton, Research Software Engineer, RSE Team (pronoun: he)"
   ]
  },
  {
   "cell_type": "markdown",
   "metadata": {
    "slideshow": {
     "slide_type": "slide"
    }
   },
   "source": [
    "# Notebooks are good\n",
    "- Great for quickly prototyping\n",
    "- Easy to explore data\n",
    "- The format lends itself to educating\n",
    "\n",
    "# Notebooks are bad\n",
    "- Not great for large, extended pieces of code\n",
    "- Good coding practices can be hard to apply"
   ]
  },
  {
   "cell_type": "markdown",
   "metadata": {
    "slideshow": {
     "slide_type": "fragment"
    }
   },
   "source": [
    "- Can lessen the downsides & strengthen the upsides with extentions"
   ]
  },
  {
   "cell_type": "markdown",
   "metadata": {
    "slideshow": {
     "slide_type": "slide"
    }
   },
   "source": [
    "# Version Control \n",
    "\n",
    "`!pip install jupytext --upgrade`\n",
    "\n",
    "`.ipynb` file format uses `Json` underneath\n",
    "\n",
    "Able to save as `.md`, `.rmd`, `.html` and more\n",
    "\n",
    "Edit file in favourite IDE, refresh page and see results\n",
    "\n",
    "Sensible version control\n",
    "    e.g. diff, merge\n",
    "    \n",
    "Also load plain text files into notebooks\n",
    "\n"
   ]
  },
  {
   "cell_type": "markdown",
   "metadata": {
    "slideshow": {
     "slide_type": "slide"
    }
   },
   "source": [
    "# Pytests\n",
    "`!pip install nbval`\n",
    "\n",
    "Ensure that the notebook is behaving as expected and changes to the underlying source code have not affected the results\n",
    "\n",
    "Runs the notebook, and compares the output with those stored in the .ipynb file.\n",
    "\n",
    "Can validate this file!\n",
    "`pytest --nbval *.ipynb"
   ]
  },
  {
   "cell_type": "code",
   "execution_count": 1,
   "metadata": {},
   "outputs": [],
   "source": [
    "#!pytest --nbval \"Making the most out of Jupyter Notebooks.ipynb\""
   ]
  },
  {
   "cell_type": "markdown",
   "metadata": {
    "slideshow": {
     "slide_type": "slide"
    }
   },
   "source": [
    "# Slideshows\n",
    "The power of notebooks with the display capabilities of slides.\n",
    "Choose what to show and hide from the notebooks.\n",
    "\n",
    "`View->Cell Toolbar->Slideshow` to bring up slide control options\n",
    "\n",
    "## Jupyter Notebook's buit-in slides\n",
    "`jupyter nbconvert *.ipynb --to slides --post serve`\n",
    "Run from commandline within folder. `nbconvert` transforms notebooks into a static format\n",
    "- Generate static html pages locally at port 8000\n",
    "- Geneates a .html file within the directory\n",
    "\n",
    "\n",
    "## Rise\n",
    "`pip install rise`\n",
    "- Run code without exiting the slideshow\n",
    "- Uses reveal.js, a javascript presentation framework\n",
    "- Powering this presentation"
   ]
  },
  {
   "cell_type": "markdown",
   "metadata": {
    "slideshow": {
     "slide_type": "notes"
    }
   },
   "source": [
    "Make changes to the md document in an ide, reload the page and show the changes"
   ]
  },
  {
   "cell_type": "markdown",
   "metadata": {
    "slideshow": {
     "slide_type": "slide"
    }
   },
   "source": [
    "# Widgets\n",
    "`!pip install ipywidgets`\n",
    "\n",
    "Powerful way to interact with code\n",
    "\n",
    "Sliders, tickboxes, textboxes, colour pickers, tabs..."
   ]
  },
  {
   "cell_type": "code",
   "execution_count": 2,
   "metadata": {
    "slideshow": {
     "slide_type": "notes"
    }
   },
   "outputs": [],
   "source": [
    "# Set the backend for an interactive plot\n",
    "%matplotlib inline\n",
    "\n",
    "import matplotlib.pyplot as plt\n",
    "import numpy as np\n",
    "\n",
    "\n",
    "def plot_func(freq, amplitude, graph_type):\n",
    "    \n",
    "    x = np.linspace(0, 2*np.pi)\n",
    "    if graph_type == \"sin\":\n",
    "        y = amplitude * np.sin(x * freq)\n",
    "    elif graph_type == \"cos\":\n",
    "        y = amplitude * np.cos(x * freq)\n",
    "    elif graph_type == \"tan\":\n",
    "        y = amplitude * np.tan(x * freq)\n",
    "    else:\n",
    "        y = x\n",
    "    axes = plt.gca()\n",
    "    axes.set_ylim([-3,3])\n",
    "    line, = plt.plot(x, y)\n"
   ]
  },
  {
   "cell_type": "code",
   "execution_count": 3,
   "metadata": {
    "scrolled": false,
    "slideshow": {
     "slide_type": "fragment"
    }
   },
   "outputs": [
    {
     "data": {
      "application/vnd.jupyter.widget-view+json": {
       "model_id": "98164130efee4bb792c80f58d6a2142a",
       "version_major": 2,
       "version_minor": 0
      },
      "text/plain": [
       "interactive(children=(FloatSlider(value=3.0, description='freq', max=5.0, min=1.0, step=0.5), FloatSlider(valu…"
      ]
     },
     "metadata": {},
     "output_type": "display_data"
    },
    {
     "data": {
      "text/plain": [
       "<function __main__.plot_func(freq, amplitude, graph_type)>"
      ]
     },
     "execution_count": 3,
     "metadata": {},
     "output_type": "execute_result"
    }
   ],
   "source": [
    "from ipywidgets import interact, fixed\n",
    "import ipywidgets as widgets\n",
    "\n",
    "# def plot_func(freq, amplitude, graph_type) = ...\n",
    "\n",
    "interact(plot_func, freq = (1,5,0.5), amplitude = (1,5,0.5), graph_type = widgets.Dropdown(options=['sin', 'cos', 'tan']))\n",
    "\n"
   ]
  },
  {
   "cell_type": "markdown",
   "metadata": {
    "slideshow": {
     "slide_type": "subslide"
    }
   },
   "source": [
    "# Widgets Continued"
   ]
  },
  {
   "cell_type": "code",
   "execution_count": 4,
   "metadata": {
    "slideshow": {
     "slide_type": "notes"
    }
   },
   "outputs": [],
   "source": [
    "#def sierpinski_recursive(level, triangle):\n",
    "    "
   ]
  },
  {
   "cell_type": "code",
   "execution_count": 10,
   "metadata": {
    "slideshow": {
     "slide_type": "-"
    }
   },
   "outputs": [
    {
     "data": {
      "application/vnd.jupyter.widget-view+json": {
       "model_id": "3bf38195955b4dd6978b449cb481dc3c",
       "version_major": 2,
       "version_minor": 0
      },
      "text/plain": [
       "interactive(children=(Play(value=2, description='freq', interval=500, max=50), Output()), _dom_classes=('widge…"
      ]
     },
     "metadata": {},
     "output_type": "display_data"
    },
    {
     "data": {
      "text/plain": [
       "<function __main__.plot_func(freq, amplitude, graph_type)>"
      ]
     },
     "execution_count": 10,
     "metadata": {},
     "output_type": "execute_result"
    }
   ],
   "source": [
    "play = widgets.Play(\n",
    "    value=2,\n",
    "    min=0,\n",
    "    max=50,\n",
    "    step=1,\n",
    "    interval=500\n",
    ")\n",
    "\n",
    "interact(plot_func, freq = play, amplitude=fixed(1), graph_type=fixed(\"sin\"))\n"
   ]
  },
  {
   "cell_type": "code",
   "execution_count": 15,
   "metadata": {
    "cell_style": "center",
    "slideshow": {
     "slide_type": "notes"
    }
   },
   "outputs": [],
   "source": [
    "# backend for following qgrid example\n",
    "import pandas as pd\n",
    "from datetime import time\n",
    "\n",
    "# some columns should be datetime format\n",
    "parse_dates = ['date', 'arrival', 'recordedarrivaltime']\n",
    "\n",
    "df = pd.read_csv(\"df_example.csv\", parse_dates=parse_dates)\n"
   ]
  },
  {
   "cell_type": "markdown",
   "metadata": {
    "cell_style": "split",
    "slideshow": {
     "slide_type": "slide"
    }
   },
   "source": [
    "# Qgrid\n",
    "`pip install qgrid`\n",
    "\n",
    "Powerful way to explore DataFrames\n",
    "\n",
    "scrolling, sorting, filtering\n",
    "\n",
    "nb: using \"Split Cells Notebook\" extention to display 2 cells horizontally"
   ]
  },
  {
   "cell_type": "code",
   "execution_count": 16,
   "metadata": {
    "cell_style": "split",
    "scrolled": true
   },
   "outputs": [
    {
     "data": {
      "application/vnd.jupyter.widget-view+json": {
       "model_id": "8f6c6ec241ed48b487385aab5470ed0b",
       "version_major": 2,
       "version_minor": 0
      },
      "text/plain": [
       "QgridWidget(grid_options={'fullWidthRows': True, 'syncColumnCellResize': True, 'forceFitColumns': True, 'defau…"
      ]
     },
     "metadata": {},
     "output_type": "display_data"
    }
   ],
   "source": [
    "import qgrid\n",
    "\n",
    "qgrid_widget = qgrid.show_grid(df, show_toolbar=True)\n",
    "qgrid_widget\n",
    "\n",
    "# plt.plot() scatter of df data\n",
    "#matplotlib extentions/theming?"
   ]
  },
  {
   "cell_type": "code",
   "execution_count": null,
   "metadata": {},
   "outputs": [],
   "source": [
    "%matplotlib nbagg\n",
    "import matplotlib.pyplot as plt\n",
    "\n",
    "n = 50\n",
    "\n",
    "qgrid_df = qgrid_widget.get_changed_df()\n",
    "x = qgrid_df.index\n",
    "y = qgrid_df['C']\n",
    "\n",
    "fig, ax = plt.subplots()\n",
    "fit = np.polyfit(x, y, deg=1)\n",
    "line, = ax.plot(x, fit[0] * x + fit[1], color='red')\n",
    "scatter, = ax.plot(x,y,ms=8,color='b',marker='o',ls='')\n",
    "\n",
    "def handle_filter_changed(event, widget):\n",
    "    qgrid_df = qgrid_widget.get_changed_df()\n",
    "    x = qgrid_df.index\n",
    "    y = qgrid_df['C']\n",
    "    fit = np.polyfit(x, y, deg=1)\n",
    "    line.set_data(x, fit[0] * x + fit[1])\n",
    "    fig.canvas.draw()\n",
    "    scatter.set_data(x, y)\n",
    "    fig.canvas.draw()\n",
    "\n",
    "qgrid_widget.on('filter_changed', handle_filter_changed)"
   ]
  },
  {
   "cell_type": "markdown",
   "metadata": {
    "slideshow": {
     "slide_type": "slide"
    }
   },
   "source": [
    "# Conclusions\n",
    "There are numerous different extentions and alterations that"
   ]
  },
  {
   "cell_type": "markdown",
   "metadata": {
    "slideshow": {
     "slide_type": "notes"
    }
   },
   "source": [
    "What works on:\n",
    "Jupyter notebooks, jupyterlab, R notebook, google collaborate?"
   ]
  },
  {
   "cell_type": "markdown",
   "metadata": {
    "slideshow": {
     "slide_type": "slide"
    }
   },
   "source": [
    "# Collection of extentions\n",
    "`pip install jupyter_contrib_nbextensions`\n"
   ]
  },
  {
   "cell_type": "markdown",
   "metadata": {
    "slideshow": {
     "slide_type": "notes"
    }
   },
   "source": [
    "# Theming\n",
    "`pip install jupyterthemes`\n",
    "Add unique look for code highlighting AND document colour\n",
    "- Includes plots (matplotlib) and dataframe styling\n",
    "Helpful for coding and presenting\n",
    "Appearance is kept when converting notebook to static content"
   ]
  },
  {
   "cell_type": "code",
   "execution_count": 8,
   "metadata": {},
   "outputs": [
    {
     "ename": "SyntaxError",
     "evalue": "invalid syntax (<ipython-input-8-ff244ec1fc08>, line 1)",
     "output_type": "error",
     "traceback": [
      "\u001b[1;36m  File \u001b[1;32m\"<ipython-input-8-ff244ec1fc08>\"\u001b[1;36m, line \u001b[1;32m1\u001b[0m\n\u001b[1;33m    Jupyter, R Markdown, Apache Zeppelin, Spark Notebook\u001b[0m\n\u001b[1;37m                      ^\u001b[0m\n\u001b[1;31mSyntaxError\u001b[0m\u001b[1;31m:\u001b[0m invalid syntax\n"
     ]
    }
   ],
   "source": [
    " Jupyter, R Markdown, Apache Zeppelin, Spark Notebook "
   ]
  }
 ],
 "metadata": {
  "celltoolbar": "Slideshow",
  "jupytext": {
   "formats": "ipynb,md"
  },
  "kernelspec": {
   "display_name": "Python 3",
   "language": "python",
   "name": "python3"
  },
  "language_info": {
   "codemirror_mode": {
    "name": "ipython",
    "version": 3
   },
   "file_extension": ".py",
   "mimetype": "text/x-python",
   "name": "python",
   "nbconvert_exporter": "python",
   "pygments_lexer": "ipython3",
   "version": "3.7.8"
  }
 },
 "nbformat": 4,
 "nbformat_minor": 4
}
